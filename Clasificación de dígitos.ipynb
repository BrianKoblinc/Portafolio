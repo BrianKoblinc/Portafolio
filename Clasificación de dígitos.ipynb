{
 "cells": [
  {
   "cell_type": "markdown",
   "id": "b481e857",
   "metadata": {},
   "source": [
    "En este caso se busca desarrollar un programa capaz de clasificar digitos escritos a mano. Para ello se trabaja con una base de datos brindada por scikit learn."
   ]
  },
  {
   "cell_type": "code",
   "execution_count": 1,
   "id": "ac8d1ed8",
   "metadata": {},
   "outputs": [],
   "source": [
    "import numpy as np\n",
    "#import os\n",
    "import matplotlib.pyplot as plt\n",
    "import matplotlib as mpl\n",
    "import pandas as pd\n",
    "\n",
    "from sklearn.datasets import fetch_openml\n",
    "from sklearn.linear_model import SGDClassifier\n",
    "from sklearn.multiclass import OneVsOneClassifier\n",
    "from sklearn.ensemble import RandomForestClassifier\n",
    "from sklearn.model_selection import cross_val_score\n",
    "from sklearn.preprocessing import StandardScaler\n",
    "from sklearn.model_selection import cross_val_predict\n",
    "from sklearn.metrics import confusion_matrix\n",
    "from sklearn.metrics import accuracy_score"
   ]
  },
  {
   "cell_type": "code",
   "execution_count": 2,
   "id": "e88af25c",
   "metadata": {},
   "outputs": [
    {
     "data": {
      "text/plain": [
       "(array([[0., 0., 0., ..., 0., 0., 0.],\n",
       "        [0., 0., 0., ..., 0., 0., 0.],\n",
       "        [0., 0., 0., ..., 0., 0., 0.],\n",
       "        ...,\n",
       "        [0., 0., 0., ..., 0., 0., 0.],\n",
       "        [0., 0., 0., ..., 0., 0., 0.],\n",
       "        [0., 0., 0., ..., 0., 0., 0.]]),\n",
       " array([5, 0, 4, ..., 4, 5, 6], dtype=int8))"
      ]
     },
     "execution_count": 2,
     "metadata": {},
     "output_type": "execute_result"
    }
   ],
   "source": [
    "# Se abre la base de datos, se transforman los targets a enteros y se ordena la base en funcion a estos\n",
    "\n",
    "mnist = fetch_openml('mnist_784', version=1, cache=True, as_frame=False)\n",
    "mnist.target = mnist.target.astype(np.int8)\n",
    "mnist[\"data\"], mnist[\"target\"]"
   ]
  },
  {
   "cell_type": "code",
   "execution_count": 3,
   "id": "623cd7f3",
   "metadata": {},
   "outputs": [
    {
     "data": {
      "text/plain": [
       "(70000, 784)"
      ]
     },
     "execution_count": 3,
     "metadata": {},
     "output_type": "execute_result"
    }
   ],
   "source": [
    "# Se consulta el tamaño del data set\n",
    "mnist.data.shape"
   ]
  },
  {
   "cell_type": "code",
   "execution_count": 4,
   "id": "a7a43907",
   "metadata": {},
   "outputs": [],
   "source": [
    "X, y = mnist[\"data\"], mnist[\"target\"]"
   ]
  },
  {
   "cell_type": "code",
   "execution_count": 5,
   "id": "ef403ae7",
   "metadata": {},
   "outputs": [
    {
     "data": {
      "image/png": "[encoded data removed]",
      "text/plain": [
       "<Figure size 432x288 with 1 Axes>"
      ]
     },
     "metadata": {
      "needs_background": "light"
     },
     "output_type": "display_data"
    }
   ],
   "source": [
    "# Se grafica un digito\n",
    "\n",
    "some_digit = X[3600]\n",
    "some_digit_image = some_digit.reshape(28, 28)\n",
    "plt.imshow(some_digit_image, cmap = mpl.cm.binary,\n",
    "           interpolation=\"nearest\")\n",
    "plt.axis(\"off\")\n",
    "\n",
    "#save_fig(\"some_digit_plot\")\n",
    "plt.show()"
   ]
  },
  {
   "cell_type": "code",
   "execution_count": 6,
   "id": "2b0567dd",
   "metadata": {},
   "outputs": [],
   "source": [
    "# Se divide en un set de entrenamiento y otro de testeo\n",
    "\n",
    "X_train, X_test, y_train, y_test = X[:60000], X[60000:], y[:60000], y[60000:]\n",
    "shuffle_index = np.random.permutation(60000)\n",
    "X_train, y_train = X_train[shuffle_index], y_train[shuffle_index]"
   ]
  },
  {
   "cell_type": "code",
   "execution_count": 7,
   "id": "24de0184",
   "metadata": {},
   "outputs": [
    {
     "data": {
      "text/plain": [
       "RandomForestClassifier(n_estimators=10, random_state=42)"
      ]
     },
     "execution_count": 7,
     "metadata": {},
     "output_type": "execute_result"
    }
   ],
   "source": [
    "# Se entrenan algoritmos capaces de clasificar bases de datos con multiples respuestas o targets\n",
    "\n",
    "sgd_clf = SGDClassifier(max_iter=5, tol=-np.infty, random_state=42)\n",
    "sgd_clf.fit(X_train, y_train)\n",
    "\n",
    "ovo_clf = OneVsOneClassifier(SGDClassifier(max_iter=5, tol=-np.infty, random_state=42))\n",
    "ovo_clf.fit(X_train, y_train)\n",
    "\n",
    "forest_clf = RandomForestClassifier(n_estimators=10, random_state=42)\n",
    "forest_clf.fit(X_train, y_train)"
   ]
  },
  {
   "cell_type": "code",
   "execution_count": 8,
   "id": "2fd30833",
   "metadata": {},
   "outputs": [
    {
     "data": {
      "text/plain": [
       "array([0.8632 , 0.85775, 0.8599 ])"
      ]
     },
     "execution_count": 8,
     "metadata": {},
     "output_type": "execute_result"
    }
   ],
   "source": [
    "# Se evalua la performance de los clasificadores\n",
    "\n",
    "cross_val_score(sgd_clf, X_train, y_train, cv=3, scoring=\"accuracy\")"
   ]
  },
  {
   "cell_type": "code",
   "execution_count": 9,
   "id": "a16f064b",
   "metadata": {},
   "outputs": [
    {
     "data": {
      "text/plain": [
       "array([0.9054 , 0.90725, 0.908  ])"
      ]
     },
     "execution_count": 9,
     "metadata": {},
     "output_type": "execute_result"
    }
   ],
   "source": [
    "cross_val_score(ovo_clf, X_train, y_train, cv=3, scoring=\"accuracy\")"
   ]
  },
  {
   "cell_type": "code",
   "execution_count": 10,
   "id": "26360935",
   "metadata": {},
   "outputs": [
    {
     "data": {
      "text/plain": [
       "array([0.9408 , 0.94215, 0.9408 ])"
      ]
     },
     "execution_count": 10,
     "metadata": {},
     "output_type": "execute_result"
    }
   ],
   "source": [
    "cross_val_score(forest_clf, X_train, y_train, cv=3, scoring=\"accuracy\")"
   ]
  },
  {
   "cell_type": "code",
   "execution_count": 11,
   "id": "921baedc",
   "metadata": {},
   "outputs": [],
   "source": [
    "# Se escalan los datos y se evalua si mejora la performance\n",
    "\n",
    "scaler = StandardScaler()\n",
    "X_train_scaled = scaler.fit_transform(X_train.astype(np.float64))"
   ]
  },
  {
   "cell_type": "code",
   "execution_count": 12,
   "id": "4eaf214a",
   "metadata": {},
   "outputs": [
    {
     "data": {
      "text/plain": [
       "array([0.90575, 0.90835, 0.91135])"
      ]
     },
     "execution_count": 12,
     "metadata": {},
     "output_type": "execute_result"
    }
   ],
   "source": [
    "cross_val_score(sgd_clf, X_train_scaled, y_train, cv=3, scoring=\"accuracy\")"
   ]
  },
  {
   "cell_type": "code",
   "execution_count": 13,
   "id": "ef700792",
   "metadata": {},
   "outputs": [
    {
     "data": {
      "text/plain": [
       "array([0.9175, 0.9191, 0.925 ])"
      ]
     },
     "execution_count": 13,
     "metadata": {},
     "output_type": "execute_result"
    }
   ],
   "source": [
    "cross_val_score(ovo_clf, X_train_scaled, y_train, cv=3, scoring=\"accuracy\")"
   ]
  },
  {
   "cell_type": "code",
   "execution_count": 14,
   "id": "883e05e1",
   "metadata": {},
   "outputs": [
    {
     "data": {
      "text/plain": [
       "array([0.9407 , 0.9421 , 0.94065])"
      ]
     },
     "execution_count": 14,
     "metadata": {},
     "output_type": "execute_result"
    }
   ],
   "source": [
    "cross_val_score(forest_clf, X_train_scaled, y_train, cv=3, scoring=\"accuracy\")"
   ]
  },
  {
   "cell_type": "code",
   "execution_count": 15,
   "id": "8a4be6e7",
   "metadata": {},
   "outputs": [
    {
     "data": {
      "text/plain": [
       "array([[5742,    3,   20,    9,   10,   39,   48,   10,   38,    4],\n",
       "       [   1, 6466,   50,   29,    6,   37,    7,    9,  124,   13],\n",
       "       [  57,   38, 5323,  114,   79,   23,   89,   55,  164,   16],\n",
       "       [  48,   40,  150, 5313,    2,  244,   38,   64,  136,   96],\n",
       "       [  16,   26,   44,    6, 5354,    9,   52,   36,   88,  211],\n",
       "       [  72,   48,   40,  183,   78, 4613,  114,   29,  153,   91],\n",
       "       [  30,   26,   48,    2,   40,   88, 5618,    8,   58,    0],\n",
       "       [  26,   25,   71,   25,   48,   12,    8, 5786,   14,  250],\n",
       "       [  52,  148,   73,  159,   14,  153,   57,   28, 5030,  137],\n",
       "       [  45,   35,   28,   83,  164,   34,    4,  210,   82, 5264]],\n",
       "      dtype=int64)"
      ]
     },
     "execution_count": 15,
     "metadata": {},
     "output_type": "execute_result"
    }
   ],
   "source": [
    "# Se grafican las matrices de confusión\n",
    "def plot_confusion_matrix(matrix):\n",
    "    fig = plt.figure(figsize=(8,8))\n",
    "    ax = fig.add_subplot(111)\n",
    "    cax = ax.matshow(matrix)\n",
    "    fig.colorbar(cax)\n",
    "\n",
    "y_train_pred_sgd = cross_val_predict(sgd_clf, X_train_scaled, y_train, cv=3)\n",
    "conf_mx_sgd = confusion_matrix(y_train, y_train_pred_sgd)\n",
    "conf_mx_sgd"
   ]
  },
  {
   "cell_type": "code",
   "execution_count": 16,
   "id": "f930c0fe",
   "metadata": {},
   "outputs": [
    {
     "data": {
      "image/png": "[encoded data removed]",
      "text/plain": [
       "<Figure size 288x288 with 1 Axes>"
      ]
     },
     "metadata": {
      "needs_background": "light"
     },
     "output_type": "display_data"
    }
   ],
   "source": [
    "plt.matshow(conf_mx_sgd, cmap=plt.cm.gray)\n",
    "plt.show()"
   ]
  },
  {
   "cell_type": "code",
   "execution_count": 17,
   "id": "9fca7e6b",
   "metadata": {},
   "outputs": [
    {
     "data": {
      "text/plain": [
       "array([[5659,    0,   40,   11,    7,   78,   63,    7,   50,    8],\n",
       "       [   1, 6503,   39,   38,    8,   31,    2,   18,   90,   12],\n",
       "       [  24,   37, 5381,  136,   66,   23,   58,   53,  164,   16],\n",
       "       [   9,   19,  124, 5470,    7,  247,    9,   52,  149,   45],\n",
       "       [   6,   19,   56,    9, 5417,   11,   36,   24,   42,  222],\n",
       "       [  29,    7,   42,  205,   27, 4772,   65,   10,  217,   47],\n",
       "       [  29,    8,   82,   10,   28,   84, 5638,    2,   37,    0],\n",
       "       [   9,   12,   74,   43,   59,   15,    3, 5817,   36,  197],\n",
       "       [  21,   66,   85,  170,   13,  159,   31,   14, 5240,   52],\n",
       "       [  14,   17,   20,   74,  163,   38,    2,  219,   67, 5335]],\n",
       "      dtype=int64)"
      ]
     },
     "execution_count": 17,
     "metadata": {},
     "output_type": "execute_result"
    }
   ],
   "source": [
    "y_train_pred_ovo = cross_val_predict(ovo_clf, X_train_scaled, y_train, cv=3)\n",
    "conf_mx_ovo = confusion_matrix(y_train, y_train_pred_ovo)\n",
    "conf_mx_ovo"
   ]
  },
  {
   "cell_type": "code",
   "execution_count": 18,
   "id": "fb2c4ecc",
   "metadata": {},
   "outputs": [
    {
     "data": {
      "image/png": "[encoded data removed]",
      "text/plain": [
       "<Figure size 288x288 with 1 Axes>"
      ]
     },
     "metadata": {
      "needs_background": "light"
     },
     "output_type": "display_data"
    }
   ],
   "source": [
    "plt.matshow(conf_mx_ovo, cmap=plt.cm.gray)\n",
    "plt.show()"
   ]
  },
  {
   "cell_type": "code",
   "execution_count": 19,
   "id": "68b53381",
   "metadata": {},
   "outputs": [
    {
     "data": {
      "text/plain": [
       "array([[5807,    2,   19,    9,   11,   15,   23,    4,   29,    4],\n",
       "       [   2, 6619,   37,   22,   13,   13,    3,   14,   10,    9],\n",
       "       [  49,   24, 5632,   51,   39,   14,   31,   45,   60,   13],\n",
       "       [  25,   28,  149, 5618,   10,  119,    6,   53,   88,   35],\n",
       "       [  15,   19,   32,    7, 5538,    9,   33,   19,   23,  147],\n",
       "       [  42,   18,   30,  199,   29, 4953,   50,   10,   50,   40],\n",
       "       [  48,   14,   36,    7,   30,   74, 5686,    0,   23,    0],\n",
       "       [  14,   23,   91,   33,   59,    3,    0, 5932,   15,   95],\n",
       "       [  32,   40,   84,  125,   62,  104,   39,   10, 5281,   74],\n",
       "       [  31,   16,   31,   93,  170,   43,    8,   92,   62, 5403]],\n",
       "      dtype=int64)"
      ]
     },
     "execution_count": 19,
     "metadata": {},
     "output_type": "execute_result"
    }
   ],
   "source": [
    "y_train_pred_forest = cross_val_predict(forest_clf, X_train_scaled, y_train, cv=3)\n",
    "conf_mx_forest = confusion_matrix(y_train, y_train_pred_forest)\n",
    "conf_mx_forest"
   ]
  },
  {
   "cell_type": "code",
   "execution_count": 20,
   "id": "60d6f2de",
   "metadata": {},
   "outputs": [
    {
     "data": {
      "image/png": "[encoded data removed]",
      "text/plain": [
       "<Figure size 288x288 with 1 Axes>"
      ]
     },
     "metadata": {
      "needs_background": "light"
     },
     "output_type": "display_data"
    }
   ],
   "source": [
    "plt.matshow(conf_mx_forest, cmap=plt.cm.gray)\n",
    "plt.show()"
   ]
  },
  {
   "cell_type": "code",
   "execution_count": 21,
   "id": "35758b6c",
   "metadata": {},
   "outputs": [
    {
     "data": {
      "image/png": "[encoded data removed]",
      "text/plain": [
       "<Figure size 288x288 with 1 Axes>"
      ]
     },
     "metadata": {
      "needs_background": "light"
     },
     "output_type": "display_data"
    }
   ],
   "source": [
    "# Se normalizan las matrices de confusion y se llena la diagonal de ceros para evaluar que numero se esta confundiendo el algoritmo\n",
    "\n",
    "row_sums_sgd = conf_mx_sgd.sum(axis=1, keepdims=True)\n",
    "norm_conf_mx_sgd = conf_mx_sgd / row_sums_sgd\n",
    "np.fill_diagonal(norm_conf_mx_sgd, 0)\n",
    "plt.matshow(norm_conf_mx_sgd, cmap=plt.cm.gray)\n",
    "plt.show()"
   ]
  },
  {
   "cell_type": "code",
   "execution_count": 22,
   "id": "b09522be",
   "metadata": {},
   "outputs": [
    {
     "data": {
      "image/png": "[encoded data removed]",
      "text/plain": [
       "<Figure size 288x288 with 1 Axes>"
      ]
     },
     "metadata": {
      "needs_background": "light"
     },
     "output_type": "display_data"
    }
   ],
   "source": [
    "row_sums_ovo = conf_mx_ovo.sum(axis=1, keepdims=True)\n",
    "norm_conf_mx_ovo = conf_mx_ovo / row_sums_ovo\n",
    "np.fill_diagonal(norm_conf_mx_ovo, 0)\n",
    "plt.matshow(norm_conf_mx_ovo, cmap=plt.cm.gray)\n",
    "plt.show()"
   ]
  },
  {
   "cell_type": "code",
   "execution_count": 23,
   "id": "24ddd133",
   "metadata": {},
   "outputs": [
    {
     "data": {
      "image/png": "[encoded data removed]",
      "text/plain": [
       "<Figure size 288x288 with 1 Axes>"
      ]
     },
     "metadata": {
      "needs_background": "light"
     },
     "output_type": "display_data"
    }
   ],
   "source": [
    "row_sums_forest = conf_mx_forest.sum(axis=1, keepdims=True)\n",
    "norm_conf_mx_forest = conf_mx_forest / row_sums_forest\n",
    "np.fill_diagonal(norm_conf_mx_forest, 0)\n",
    "plt.matshow(norm_conf_mx_forest, cmap=plt.cm.gray)\n",
    "plt.show()"
   ]
  },
  {
   "cell_type": "code",
   "execution_count": 24,
   "id": "a05f3bc5",
   "metadata": {},
   "outputs": [
    {
     "data": {
      "text/html": [
       "<div>\n",
       "<style scoped>\n",
       "    .dataframe tbody tr th:only-of-type {\n",
       "        vertical-align: middle;\n",
       "    }\n",
       "\n",
       "    .dataframe tbody tr th {\n",
       "        vertical-align: top;\n",
       "    }\n",
       "\n",
       "    .dataframe thead th {\n",
       "        text-align: right;\n",
       "    }\n",
       "</style>\n",
       "<table border=\"1\" class=\"dataframe\">\n",
       "  <thead>\n",
       "    <tr style=\"text-align: right;\">\n",
       "      <th></th>\n",
       "      <th>Algorithm</th>\n",
       "      <th>Score</th>\n",
       "    </tr>\n",
       "  </thead>\n",
       "  <tbody>\n",
       "    <tr>\n",
       "      <th>0</th>\n",
       "      <td>SGD</td>\n",
       "      <td>0.8702</td>\n",
       "    </tr>\n",
       "    <tr>\n",
       "      <th>1</th>\n",
       "      <td>OVO</td>\n",
       "      <td>0.9113</td>\n",
       "    </tr>\n",
       "    <tr>\n",
       "      <th>2</th>\n",
       "      <td>Random Forest</td>\n",
       "      <td>0.9481</td>\n",
       "    </tr>\n",
       "  </tbody>\n",
       "</table>\n",
       "</div>"
      ],
      "text/plain": [
       "       Algorithm   Score\n",
       "0            SGD  0.8702\n",
       "1            OVO  0.9113\n",
       "2  Random Forest  0.9481"
      ]
     },
     "execution_count": 24,
     "metadata": {},
     "output_type": "execute_result"
    }
   ],
   "source": [
    "# Se evalua la precision de cada algoritmo\n",
    "\n",
    "y_test_pred_sgd = sgd_clf.predict(X_test)\n",
    "sgd_score = accuracy_score(y_test, y_test_pred_sgd)\n",
    "\n",
    "y_test_pred_ovo = ovo_clf.predict(X_test)\n",
    "ovo_score = accuracy_score(y_test, y_test_pred_ovo)\n",
    "\n",
    "y_test_pred_forest = forest_clf.predict(X_test)\n",
    "forest_score = accuracy_score(y_test, y_test_pred_forest)\n",
    "\n",
    "\n",
    "d = {'Algorithm': ['SGD', 'OVO', 'Random Forest'], 'Score': [sgd_score, ovo_score, forest_score]}\n",
    "final_df = pd.DataFrame(data=d)\n",
    "\n",
    "score = final_df['Score']\n",
    "final_df.drop('Score', axis=1, inplace=True)\n",
    "final_df.insert(1, 'Score', score)\n",
    "\n",
    "final_df"
   ]
  },
  {
   "cell_type": "markdown",
   "id": "5f871175",
   "metadata": {},
   "source": [
    "Los tres algoritmos presentan un puntaje elevado. Se podria mejorar el resultado mediante el preprocesamiento (ej. escalado) de los datos o haciendo hincapie en los numeros que el programa confunde con mayor frecuencia (ej. 3-8 y 7-9). Esto ultimo se alcanzaria si agrega una porcion de programa capaz de identificar el numero de vueltas cerradas, ya que el digito 3 no posee ninguna, 8 posee dos, 7 no posee ninguna y 9 posee solo una."
   ]
  }
 ],
 "metadata": {
  "kernelspec": {
   "display_name": "Python 3 (ipykernel)",
   "language": "python",
   "name": "python3"
  },
  "language_info": {
   "codemirror_mode": {
    "name": "ipython",
    "version": 3
   },
   "file_extension": ".py",
   "mimetype": "text/x-python",
   "name": "python",
   "nbconvert_exporter": "python",
   "pygments_lexer": "ipython3",
   "version": "3.9.7"
  }
 },
 "nbformat": 4,
 "nbformat_minor": 5
}
